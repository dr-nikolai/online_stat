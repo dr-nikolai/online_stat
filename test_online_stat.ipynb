{
 "cells": [
  {
   "cell_type": "markdown",
   "metadata": {},
   "source": [
    "## Single-Pass Online Statistics Algorithms ##\n",
    "Nikolai Shokhirev, http://www.numericalexpert.com/"
   ]
  },
  {
   "cell_type": "markdown",
   "metadata": {},
   "source": [
    "### Suppliment to the article ###\n",
    "** Single-Pass Online Statistics Algorithms **: http://www.numericalexpert.com/articles/single_pass_stat/ "
   ]
  },
  {
   "cell_type": "code",
   "execution_count": 1,
   "metadata": {
    "collapsed": true
   },
   "outputs": [],
   "source": [
    "import numpy as np"
   ]
  },
  {
   "cell_type": "code",
   "execution_count": 2,
   "metadata": {
    "collapsed": false
   },
   "outputs": [],
   "source": [
    "from online_statistics import *"
   ]
  },
  {
   "cell_type": "markdown",
   "metadata": {},
   "source": [
    "#### Helper functions ####"
   ]
  },
  {
   "cell_type": "code",
   "execution_count": 3,
   "metadata": {
    "collapsed": true
   },
   "outputs": [],
   "source": [
    "def run_win2pass(X, n):\n",
    "    # Two-pass algorithm\n",
    "    print('Mean,  M2,  M3,  M4')\n",
    "    for i in range(len(X)):\n",
    "        for k in [1,2,3,4]:\n",
    "            print(win_moment(X, n, i, k), end=' ')\n",
    "        print()"
   ]
  },
  {
   "cell_type": "code",
   "execution_count": 4,
   "metadata": {
    "collapsed": true
   },
   "outputs": [],
   "source": [
    "def run_win1pass(X, n):\n",
    "    # Single-pass algorithm\n",
    "    ws = WindowedStat(n)\n",
    "    print('Mean,  M2,  M3,  M4')\n",
    "    for x in X:\n",
    "        ws.push(x)\n",
    "        print(ws.m, ws.m2, ws.m3, ws.m4)"
   ]
  },
  {
   "cell_type": "code",
   "execution_count": 5,
   "metadata": {
    "collapsed": true
   },
   "outputs": [],
   "source": [
    "def run_cum2pass(X):\n",
    "    # Two-pass algorithm\n",
    "    print('Mean,  M2,  M3,  M4')\n",
    "    for i in range(len(X)):\n",
    "        for k in [1,2,3,4]:\n",
    "            print(cum_moment(X, i, k), end=' ')\n",
    "        print()"
   ]
  },
  {
   "cell_type": "code",
   "execution_count": 6,
   "metadata": {
    "collapsed": true
   },
   "outputs": [],
   "source": [
    "def run_cum1pass(X):\n",
    "    # Single-pass cumulative algorithm\n",
    "    ws = CumulativeStat()\n",
    "    print('Mean,  M2,  M3,  M4')\n",
    "    for x in X:\n",
    "        ws.push(x)\n",
    "        print(ws.m, ws.m2, ws.m3, ws.m4)"
   ]
  },
  {
   "cell_type": "code",
   "execution_count": 7,
   "metadata": {
    "collapsed": true
   },
   "outputs": [],
   "source": [
    "def run_wincov2pass(X, Y, n):\n",
    "    # Two-pass algorithm\n",
    "    print('Covariance')\n",
    "    for i in range(len(X)):\n",
    "        print(win_cov(X, Y, n, i))"
   ]
  },
  {
   "cell_type": "code",
   "execution_count": 8,
   "metadata": {
    "collapsed": true
   },
   "outputs": [],
   "source": [
    "def run_wincov1pass(X, Y, n):\n",
    "    # Single-pass algorithm\n",
    "    wc = WindowedCovariance(n)\n",
    "    print('Covariance')\n",
    "    for x, y in zip(X,Y):\n",
    "        wc.push(x,y)\n",
    "        print(wc.cov)"
   ]
  },
  {
   "cell_type": "code",
   "execution_count": 9,
   "metadata": {
    "collapsed": true
   },
   "outputs": [],
   "source": [
    "def run_cumcov2pass(X, Y):\n",
    "    # Two-pass algorithm\n",
    "    print('Covariance')\n",
    "    for i in range(len(X)):\n",
    "        print(cum_cov(X, Y, i))"
   ]
  },
  {
   "cell_type": "code",
   "execution_count": 10,
   "metadata": {
    "collapsed": true
   },
   "outputs": [],
   "source": [
    "def run_cumcov1pass(X, Y):\n",
    "    # Two-pass algorithm\n",
    "    wc = CumulativeCovariance()\n",
    "    print('Covariance')\n",
    "    for x, y in zip(X,Y):\n",
    "        wc.push(x,y)\n",
    "        print(wc.cov)"
   ]
  },
  {
   "cell_type": "markdown",
   "metadata": {},
   "source": [
    "### Tests ###"
   ]
  },
  {
   "cell_type": "code",
   "execution_count": 11,
   "metadata": {
    "collapsed": true
   },
   "outputs": [],
   "source": [
    "# Test data\n",
    "X = np.array([0.2,1.0,1.4,2.0,2.7,3.8,5.4,7.5,11,15],dtype=float)"
   ]
  },
  {
   "cell_type": "markdown",
   "metadata": {},
   "source": [
    "#### Windowed statistics ####"
   ]
  },
  {
   "cell_type": "code",
   "execution_count": 12,
   "metadata": {
    "collapsed": false
   },
   "outputs": [
    {
     "name": "stdout",
     "output_type": "stream",
     "text": [
      "Mean,  M2,  M3,  M4\n",
      "0.2 0.0 -3.46944695195e-18 1.73472347598e-18\n",
      "0.6 0.16 -2.94902990916e-17 0.0256\n",
      "0.866666666667 0.248888888889 -0.0474074074074 0.0929185185185\n",
      "1.46666666667 0.168888888889 0.0165925925926 0.0427851851852\n",
      "2.03333333333 0.282222222222 0.0140740740741 0.119474074074\n",
      "2.83333333333 0.548888888889 0.107407407407 0.451918518519\n",
      "3.96666666667 1.22888888889 0.302592592593 2.26525185185\n",
      "5.56666666667 2.29555555556 0.569259259259 7.90436296296\n",
      "7.96666666667 5.33555555556 3.63325925926 42.7022296296\n",
      "11.1666666667 9.38888888889 2.34259259259 132.226851852\n"
     ]
    }
   ],
   "source": [
    "# Single-pass algorithm\n",
    "n = 3 # windows size\n",
    "run_win1pass(X, n)"
   ]
  },
  {
   "cell_type": "code",
   "execution_count": 13,
   "metadata": {
    "collapsed": false
   },
   "outputs": [
    {
     "name": "stdout",
     "output_type": "stream",
     "text": [
      "Mean,  M2,  M3,  M4\n",
      "0.2 0.0 0.0 0.0 \n",
      "0.6 0.16 1.38777878078e-17 0.0256 \n",
      "0.866666666667 0.248888888889 -0.0474074074074 0.0929185185185 \n",
      "1.15 0.4275 -0.05775 0.33523125 \n",
      "1.775 0.411875 0.07115625 0.278795703125 \n",
      "2.475 0.796875 0.24703125 1.11778945313 \n",
      "3.475 1.646875 0.87328125 4.70922695313 \n",
      "4.85 3.2625 1.92 17.99750625 \n",
      "6.925 7.256875 8.44846875 94.1580144531 \n",
      "9.725 13.276875 14.23396875 287.829289453 \n"
     ]
    }
   ],
   "source": [
    "# Two-pass algorithm\n",
    "n = 4 # windows size\n",
    "run_win2pass(X, n)"
   ]
  },
  {
   "cell_type": "code",
   "execution_count": 14,
   "metadata": {
    "collapsed": false
   },
   "outputs": [
    {
     "name": "stdout",
     "output_type": "stream",
     "text": [
      "Mean,  M2,  M3,  M4\n",
      "0.2 0.0 -3.46944695195e-18 1.73472347598e-18\n",
      "0.6 0.16 -2.94902990916e-17 0.0256\n",
      "0.866666666667 0.248888888889 -0.0474074074074 0.0929185185185\n",
      "1.15 0.4275 -0.05775 0.33523125\n",
      "1.775 0.411875 0.07115625 0.278795703125\n",
      "2.475 0.796875 0.24703125 1.11778945313\n",
      "3.475 1.646875 0.87328125 4.70922695313\n",
      "4.85 3.2625 1.92 17.99750625\n",
      "6.925 7.256875 8.44846875 94.1580144531\n",
      "9.725 13.276875 14.23396875 287.829289453\n"
     ]
    }
   ],
   "source": [
    "# Single-pass algorithm\n",
    "n = 4 # windows size\n",
    "run_win1pass(X, n)"
   ]
  },
  {
   "cell_type": "code",
   "execution_count": 15,
   "metadata": {
    "collapsed": false
   },
   "outputs": [
    {
     "name": "stdout",
     "output_type": "stream",
     "text": [
      "Mean,  M2,  M3,  M4\n",
      "0.2 0.0 0.0 0.0 \n",
      "0.6 0.16 1.38777878078e-17 0.0256 \n",
      "0.866666666667 0.248888888889 -0.0474074074074 0.0929185185185 \n",
      "1.15 0.4275 -0.05775 0.33523125 \n",
      "1.775 0.411875 0.07115625 0.278795703125 \n",
      "2.475 0.796875 0.24703125 1.11778945313 \n",
      "3.475 1.646875 0.87328125 4.70922695313 \n",
      "4.85 3.2625 1.92 17.99750625 \n",
      "6.925 7.256875 8.44846875 94.1580144531 \n",
      "9.725 13.276875 14.23396875 287.829289453 \n"
     ]
    }
   ],
   "source": [
    "# Two-pass algorithm\n",
    "n = 4 # windows size\n",
    "run_win2pass(X, n)"
   ]
  },
  {
   "cell_type": "markdown",
   "metadata": {},
   "source": [
    "#### Cumulative statistics ####"
   ]
  },
  {
   "cell_type": "code",
   "execution_count": 16,
   "metadata": {
    "collapsed": false
   },
   "outputs": [
    {
     "name": "stdout",
     "output_type": "stream",
     "text": [
      "Mean,  M2,  M3,  M4\n",
      "0.2 0.0 -3.46944695195e-18 1.73472347598e-18\n",
      "0.6 0.16 -2.94902990916e-17 0.0256\n",
      "0.866666666667 0.248888888889 -0.0474074074074 0.0929185185185\n",
      "1.15 0.4275 -0.05775 0.33523125\n",
      "1.46 0.7264 -0.006768 1.00290112\n",
      "1.85 1.36583333333 0.4725 3.82608958333\n",
      "2.35714285714 2.71387755102 2.53686297376 16.5681936693\n",
      "3.0 5.2675 8.79825 66.084625\n",
      "3.88888888889 11.0032098765 34.6653305898 337.810830818\n",
      "5.0 21.014 96.9546 1240.0949\n"
     ]
    }
   ],
   "source": [
    "# The first 4 values coincide with the above test.\n",
    "run_cum1pass(X)"
   ]
  },
  {
   "cell_type": "code",
   "execution_count": 17,
   "metadata": {
    "collapsed": false
   },
   "outputs": [
    {
     "name": "stdout",
     "output_type": "stream",
     "text": [
      "Mean,  M2,  M3,  M4\n",
      "0.2 0.0 0.0 0.0 \n",
      "0.6 0.16 1.38777878078e-17 0.0256 \n",
      "0.866666666667 0.248888888889 -0.0474074074074 0.0929185185185 \n",
      "1.15 0.4275 -0.05775 0.33523125 \n",
      "1.46 0.7264 -0.006768 1.00290112 \n",
      "1.85 1.36583333333 0.4725 3.82608958333 \n",
      "2.35714285714 2.71387755102 2.53686297376 16.5681936693 \n",
      "3.0 5.2675 8.79825 66.084625 \n",
      "3.88888888889 11.0032098765 34.6653305898 337.810830818 \n",
      "5.0 21.014 96.9546 1240.0949 \n"
     ]
    }
   ],
   "source": [
    "run_cum2pass(X)"
   ]
  },
  {
   "cell_type": "markdown",
   "metadata": {},
   "source": [
    "### Covariance ###"
   ]
  },
  {
   "cell_type": "code",
   "execution_count": 18,
   "metadata": {
    "collapsed": true
   },
   "outputs": [],
   "source": [
    "# Test data\n",
    "X = np.array(range(10))\n",
    "Y = X + np.random.uniform(size=10)\n",
    "X = X + np.random.uniform(size=10)"
   ]
  },
  {
   "cell_type": "code",
   "execution_count": 19,
   "metadata": {
    "collapsed": false
   },
   "outputs": [
    {
     "name": "stdout",
     "output_type": "stream",
     "text": [
      "Covariance\n",
      "0.0\n",
      "0.162176504834\n",
      "0.454873810488\n",
      "1.10303001434\n",
      "1.30642641714\n",
      "1.1964980382\n",
      "1.12359078133\n",
      "0.960414905236\n",
      "1.27182856029\n",
      "1.34879684567\n"
     ]
    }
   ],
   "source": [
    "n = 4\n",
    "run_wincov1pass(X, Y, n)"
   ]
  },
  {
   "cell_type": "code",
   "execution_count": 20,
   "metadata": {
    "collapsed": false
   },
   "outputs": [
    {
     "name": "stdout",
     "output_type": "stream",
     "text": [
      "Covariance\n",
      "0.0\n",
      "0.162176504834\n",
      "0.454873810488\n",
      "1.10303001434\n",
      "1.30642641714\n",
      "1.1964980382\n",
      "1.12359078133\n",
      "0.960414905236\n",
      "1.27182856029\n",
      "1.34879684567\n"
     ]
    }
   ],
   "source": [
    "n = 4\n",
    "run_wincov2pass(X, Y, n)"
   ]
  },
  {
   "cell_type": "code",
   "execution_count": null,
   "metadata": {
    "collapsed": true
   },
   "outputs": [],
   "source": []
  }
 ],
 "metadata": {
  "kernelspec": {
   "display_name": "Python [Anaconda3]",
   "language": "python",
   "name": "Python [Anaconda3]"
  },
  "language_info": {
   "codemirror_mode": {
    "name": "ipython",
    "version": 3
   },
   "file_extension": ".py",
   "mimetype": "text/x-python",
   "name": "python",
   "nbconvert_exporter": "python",
   "pygments_lexer": "ipython3",
   "version": "3.5.4"
  }
 },
 "nbformat": 4,
 "nbformat_minor": 2
}
