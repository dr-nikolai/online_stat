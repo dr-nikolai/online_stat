{
 "cells": [
  {
   "cell_type": "markdown",
   "metadata": {},
   "source": [
    "## Single-Pass Online Statistics Algorithms ##\n",
    "Nikolai Shokhirev, http://www.numericalexpert.com/"
   ]
  },
  {
   "cell_type": "markdown",
   "metadata": {},
   "source": [
    "### Suppliment to the article ###\n",
    "** Single-Pass Online Statistics Algorithms **: http://www.numericalexpert.com/articles/single_pass_stat/ "
   ]
  },
  {
   "cell_type": "code",
   "execution_count": 1,
   "metadata": {
    "collapsed": true
   },
   "outputs": [],
   "source": [
    "import numpy as np"
   ]
  },
  {
   "cell_type": "code",
   "execution_count": 3,
   "metadata": {
    "collapsed": false
   },
   "outputs": [],
   "source": [
    "from online_statistics import *"
   ]
  },
  {
   "cell_type": "markdown",
   "metadata": {},
   "source": [
    "#### Helper functions ####"
   ]
  },
  {
   "cell_type": "code",
   "execution_count": 4,
   "metadata": {
    "collapsed": true
   },
   "outputs": [],
   "source": [
    "def run_2pass(X, n):\n",
    "    # Two-pass algorithm - for testing\n",
    "    print('Mean,  M2,  M3,  M4')\n",
    "    for i in range(len(X)):\n",
    "        print(moment(X, n, i, 1),moment(X, n, i, 2),moment(X, n, i, 3),moment(X, n, i, 4))"
   ]
  },
  {
   "cell_type": "code",
   "execution_count": 5,
   "metadata": {
    "collapsed": true
   },
   "outputs": [],
   "source": [
    "def run_1pass(X, n):\n",
    "# Single-pass algorithm\n",
    "    ws = WindowedStat(n)\n",
    "    print('Mean,  M2,  M3,  M4')\n",
    "    for x in X:\n",
    "        ws.push(x)\n",
    "        print(ws.m, ws.m2, ws.m3, ws.m4)"
   ]
  },
  {
   "cell_type": "markdown",
   "metadata": {},
   "source": [
    "### Tests ###"
   ]
  },
  {
   "cell_type": "code",
   "execution_count": 6,
   "metadata": {
    "collapsed": true
   },
   "outputs": [],
   "source": [
    "# Test data\n",
    "X = np.array([0.2,1.0,1.4,2.0,2.7,3.8,5.4,7.5,11,15],dtype=float)"
   ]
  },
  {
   "cell_type": "code",
   "execution_count": 7,
   "metadata": {
    "collapsed": false
   },
   "outputs": [
    {
     "name": "stdout",
     "output_type": "stream",
     "text": [
      "Mean,  M2,  M3,  M4\n",
      "0.2 0.0 -3.46944695195e-18 1.73472347598e-18\n",
      "0.6 0.16 -2.94902990916e-17 0.0256\n",
      "0.866666666667 0.248888888889 -0.0474074074074 0.0929185185185\n",
      "1.46666666667 0.168888888889 0.0165925925926 0.0427851851852\n",
      "2.03333333333 0.282222222222 0.0140740740741 0.119474074074\n",
      "2.83333333333 0.548888888889 0.107407407407 0.451918518519\n",
      "3.96666666667 1.22888888889 0.302592592593 2.26525185185\n",
      "5.56666666667 2.29555555556 0.569259259259 7.90436296296\n",
      "7.96666666667 5.33555555556 3.63325925926 42.7022296296\n",
      "11.1666666667 9.38888888889 2.34259259259 132.226851852\n"
     ]
    }
   ],
   "source": [
    "# Single-pass algorithm\n",
    "n = 3 # windows size\n",
    "run_1pass(X, n)"
   ]
  },
  {
   "cell_type": "code",
   "execution_count": 8,
   "metadata": {
    "collapsed": false
   },
   "outputs": [
    {
     "name": "stdout",
     "output_type": "stream",
     "text": [
      "Mean,  M2,  M3,  M4\n",
      "0.2 0.0 0.0 0.0\n",
      "0.6 0.16 1.38777878078e-17 0.0256\n",
      "0.866666666667 0.248888888889 -0.0474074074074 0.0929185185185\n",
      "1.46666666667 0.168888888889 0.0165925925926 0.0427851851852\n",
      "2.03333333333 0.282222222222 0.0140740740741 0.119474074074\n",
      "2.83333333333 0.548888888889 0.107407407407 0.451918518519\n",
      "3.96666666667 1.22888888889 0.302592592593 2.26525185185\n",
      "5.56666666667 2.29555555556 0.569259259259 7.90436296296\n",
      "7.96666666667 5.33555555556 3.63325925926 42.7022296296\n",
      "11.1666666667 9.38888888889 2.34259259259 132.226851852\n"
     ]
    }
   ],
   "source": [
    "# Two-pass algorithm\n",
    "n = 3 # windows size\n",
    "run_2pass(X, n)"
   ]
  },
  {
   "cell_type": "code",
   "execution_count": 9,
   "metadata": {
    "collapsed": false
   },
   "outputs": [
    {
     "name": "stdout",
     "output_type": "stream",
     "text": [
      "Mean,  M2,  M3,  M4\n",
      "0.2 0.0 -3.46944695195e-18 1.73472347598e-18\n",
      "0.6 0.16 -2.94902990916e-17 0.0256\n",
      "0.866666666667 0.248888888889 -0.0474074074074 0.0929185185185\n",
      "1.15 0.4275 -0.05775 0.33523125\n",
      "1.775 0.411875 0.07115625 0.278795703125\n",
      "2.475 0.796875 0.24703125 1.11778945313\n",
      "3.475 1.646875 0.87328125 4.70922695313\n",
      "4.85 3.2625 1.92 17.99750625\n",
      "6.925 7.256875 8.44846875 94.1580144531\n",
      "9.725 13.276875 14.23396875 287.829289453\n"
     ]
    }
   ],
   "source": [
    "# Single-pass algorithm\n",
    "n = 4 # windows size\n",
    "run_1pass(X, n)"
   ]
  },
  {
   "cell_type": "code",
   "execution_count": 10,
   "metadata": {
    "collapsed": false
   },
   "outputs": [
    {
     "name": "stdout",
     "output_type": "stream",
     "text": [
      "Mean,  M2,  M3,  M4\n",
      "0.2 0.0 0.0 0.0\n",
      "0.6 0.16 1.38777878078e-17 0.0256\n",
      "0.866666666667 0.248888888889 -0.0474074074074 0.0929185185185\n",
      "1.15 0.4275 -0.05775 0.33523125\n",
      "1.775 0.411875 0.07115625 0.278795703125\n",
      "2.475 0.796875 0.24703125 1.11778945313\n",
      "3.475 1.646875 0.87328125 4.70922695313\n",
      "4.85 3.2625 1.92 17.99750625\n",
      "6.925 7.256875 8.44846875 94.1580144531\n",
      "9.725 13.276875 14.23396875 287.829289453\n"
     ]
    }
   ],
   "source": [
    "# Two-pass algorithm\n",
    "n = 4 # windows size\n",
    "run_2pass(X, n)"
   ]
  },
  {
   "cell_type": "code",
   "execution_count": null,
   "metadata": {
    "collapsed": true
   },
   "outputs": [],
   "source": []
  },
  {
   "cell_type": "code",
   "execution_count": null,
   "metadata": {
    "collapsed": true
   },
   "outputs": [],
   "source": []
  }
 ],
 "metadata": {
  "kernelspec": {
   "display_name": "Python [Anaconda3]",
   "language": "python",
   "name": "Python [Anaconda3]"
  },
  "language_info": {
   "codemirror_mode": {
    "name": "ipython",
    "version": 3
   },
   "file_extension": ".py",
   "mimetype": "text/x-python",
   "name": "python",
   "nbconvert_exporter": "python",
   "pygments_lexer": "ipython3",
   "version": "3.5.4"
  }
 },
 "nbformat": 4,
 "nbformat_minor": 2
}
